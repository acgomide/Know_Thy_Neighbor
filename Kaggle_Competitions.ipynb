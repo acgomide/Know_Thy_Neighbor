{
 "metadata": {
  "name": "",
  "signature": "sha256:a879b79df7606dd94094405ad9a958629095f0835500fccac0f3b6971fd58b3d"
 },
 "nbformat": 3,
 "nbformat_minor": 0,
 "worksheets": [
  {
   "cells": [
    {
     "cell_type": "markdown",
     "metadata": {},
     "source": [
      "#Kaggle Competition\n",
      "\n",
      "## Why?\n",
      "* Get use to using Ipython and Pandas\n",
      "* Experiment with actual data\n",
      "* An alternative to contributing to open source\n",
      "* Introduce you to other machine learning algorithms\n",
      "* Kaggle is fun!"
     ]
    },
    {
     "cell_type": "code",
     "collapsed": false,
     "input": [],
     "language": "python",
     "metadata": {},
     "outputs": []
    },
    {
     "cell_type": "markdown",
     "metadata": {},
     "source": [
      "Your tasks, if you chose to accept them:\n",
      "1. Open an Ipython notebook\n",
      "2. Retrieve download Kaggle csv's http://www.kaggle.com/c/titanic-gettingStarted\n",
      "3. Put the training and testing data into a dataframe\n",
      "4. Find out how many times the words 'cabin' and survived show up in the training data\n",
      "5. What are the first five records in the testing dataframe?\n",
      "6. What is the age of the youngest passenger/what is the age of the oldest passenger?\n",
      "\n",
      "    "
     ]
    },
    {
     "cell_type": "code",
     "collapsed": false,
     "input": [
      "# Let's Begin"
     ],
     "language": "python",
     "metadata": {},
     "outputs": []
    },
    {
     "cell_type": "code",
     "collapsed": false,
     "input": [
      "import numpy as np\n",
      "print 'numpy:', np.__version__\n",
      "#print '   path :',np.__path__\n",
      "\n",
      "import scipy\n",
      "print 'scipy:', scipy.__version__\n",
      "#print '   path :',scipy.__path__\n",
      "\n",
      "import pandas as pd\n",
      "print 'pandas: ',pd.__version__\n",
      "#print '   path :',pd.__path__\n",
      "\n",
      "import matplotlib as plt\n",
      "print 'matplotlib:', matplotlib.__version__\n",
      "#print '   path :',plt.__path__\n",
      "\n",
      "import sklearn\n",
      "print 'scikit-learn:', sklearn.__version__\n",
      "#print '   path :',sklearn.__path__\n",
      "\n",
      "import psutil # Process & System Utilities\n",
      "print 'psutil:',psutil.__version__\n",
      "print psutil.virtual_memory()"
     ],
     "language": "python",
     "metadata": {},
     "outputs": []
    },
    {
     "cell_type": "code",
     "collapsed": false,
     "input": [
      "#Question 1\n"
     ],
     "language": "python",
     "metadata": {},
     "outputs": []
    },
    {
     "cell_type": "code",
     "collapsed": false,
     "input": [
      "#Question 2\n"
     ],
     "language": "python",
     "metadata": {},
     "outputs": []
    },
    {
     "cell_type": "code",
     "collapsed": false,
     "input": [
      "#Question 3\n"
     ],
     "language": "python",
     "metadata": {},
     "outputs": []
    },
    {
     "cell_type": "code",
     "collapsed": false,
     "input": [
      "#Question 4\n"
     ],
     "language": "python",
     "metadata": {},
     "outputs": []
    },
    {
     "cell_type": "code",
     "collapsed": false,
     "input": [
      "#Question 5\n"
     ],
     "language": "python",
     "metadata": {},
     "outputs": []
    },
    {
     "cell_type": "code",
     "collapsed": false,
     "input": [
      "#Question 6\n"
     ],
     "language": "python",
     "metadata": {},
     "outputs": []
    },
    {
     "cell_type": "code",
     "collapsed": false,
     "input": [
      "#1 : Simple Model (M=Survived)"
     ],
     "language": "python",
     "metadata": {},
     "outputs": []
    },
    {
     "cell_type": "markdown",
     "metadata": {},
     "source": [
      "# After Class Activities"
     ]
    },
    {
     "cell_type": "code",
     "collapsed": false,
     "input": [
      "gender_model = lambda row: [0,1] [row['Sex'] == 'male']\n",
      "df_test['Survived'] = df_test.apply(gender_model,axis=1)"
     ],
     "language": "python",
     "metadata": {},
     "outputs": []
    },
    {
     "cell_type": "code",
     "collapsed": false,
     "input": [
      "df_test.head()"
     ],
     "language": "python",
     "metadata": {},
     "outputs": []
    },
    {
     "cell_type": "code",
     "collapsed": false,
     "input": [
      "df_test[['PassengerId','Survived']].to_csv('titanic/sub-01.csv', index=False, float_format=\"%f\")"
     ],
     "language": "python",
     "metadata": {},
     "outputs": []
    },
    {
     "cell_type": "code",
     "collapsed": false,
     "input": [
      "df_test.groupby(by=['Sex','Survived']).count()[['Sex','Survived']]"
     ],
     "language": "python",
     "metadata": {},
     "outputs": []
    },
    {
     "cell_type": "markdown",
     "metadata": {},
     "source": [
      "#2 : Simple Model (F=Survived)\u00b6"
     ]
    },
    {
     "cell_type": "code",
     "collapsed": false,
     "input": [
      "gender_model = lambda row: [1,0] [row['Sex'] == 'male']\n",
      "df_test['Survived'] = df_test.apply(gender_model,axis=1)\n",
      "df_test.head() # Now I got it right !"
     ],
     "language": "python",
     "metadata": {},
     "outputs": []
    },
    {
     "cell_type": "code",
     "collapsed": false,
     "input": [
      "df_test[['PassengerId','Survived']].to_csv('titanic/sub-02.csv', index=False, float_format=\"%f\")\n",
      "# Submit and you will get 0.76555"
     ],
     "language": "python",
     "metadata": {},
     "outputs": []
    },
    {
     "cell_type": "code",
     "collapsed": false,
     "input": [
      "df_test.groupby(by=['Sex','Survived']).count()[['Sex','Survived']]"
     ],
     "language": "python",
     "metadata": {},
     "outputs": []
    },
    {
     "cell_type": "code",
     "collapsed": false,
     "input": [
      "# Now clean the data for applying tree algorithms"
     ],
     "language": "python",
     "metadata": {},
     "outputs": []
    },
    {
     "cell_type": "code",
     "collapsed": false,
     "input": [
      "df_train.drop(['Ticket','Cabin','Embarked','Age','Name'],inplace=True,axis=1)"
     ],
     "language": "python",
     "metadata": {},
     "outputs": []
    },
    {
     "cell_type": "code",
     "collapsed": false,
     "input": [
      "df_train.head()"
     ],
     "language": "python",
     "metadata": {},
     "outputs": []
    },
    {
     "cell_type": "code",
     "collapsed": false,
     "input": [
      "gender_code = lambda row: [1,0] [row['Sex'] == 'male']\n",
      "df_train['Gender'] = df_train.apply(gender_code,axis=1)"
     ],
     "language": "python",
     "metadata": {},
     "outputs": []
    },
    {
     "cell_type": "code",
     "collapsed": false,
     "input": [
      "df_train.head()"
     ],
     "language": "python",
     "metadata": {},
     "outputs": []
    },
    {
     "cell_type": "code",
     "collapsed": false,
     "input": [
      "df_train.drop('Sex',inplace=True,axis=1)"
     ],
     "language": "python",
     "metadata": {},
     "outputs": []
    },
    {
     "cell_type": "code",
     "collapsed": false,
     "input": [
      "df_train.head()"
     ],
     "language": "python",
     "metadata": {},
     "outputs": []
    },
    {
     "cell_type": "markdown",
     "metadata": {},
     "source": [
      "#3 : Simple CART Model\u00b6"
     ]
    },
    {
     "cell_type": "code",
     "collapsed": false,
     "input": [
      "from sklearn.tree import DecisionTreeClassifier\n",
      "clf = DecisionTreeClassifier() #Default Values incl criterion='gini'; could be critirion='entropy'"
     ],
     "language": "python",
     "metadata": {},
     "outputs": []
    },
    {
     "cell_type": "code",
     "collapsed": false,
     "input": [
      "clf_data = df_train[['Pclass','SibSp','Parch','Fare','Gender']].values\n",
      "clf_target = df_train.Survived.values"
     ],
     "language": "python",
     "metadata": {},
     "outputs": []
    },
    {
     "cell_type": "code",
     "collapsed": false,
     "input": [
      "clf = clf.fit(clf_data,clf_target)"
     ],
     "language": "python",
     "metadata": {},
     "outputs": []
    },
    {
     "cell_type": "code",
     "collapsed": false,
     "input": [
      "import pydot,StringIO"
     ],
     "language": "python",
     "metadata": {},
     "outputs": []
    },
    {
     "cell_type": "code",
     "collapsed": false,
     "input": [
      "dot_data = StringIO.StringIO()"
     ],
     "language": "python",
     "metadata": {},
     "outputs": []
    },
    {
     "cell_type": "code",
     "collapsed": false,
     "input": [
      "from sklearn import tree\n",
      "tree.export_graphviz(clf, out_file=dot_data, feature_names=['Class','Siblings','Parents','Fare','Gender']) "
     ],
     "language": "python",
     "metadata": {},
     "outputs": []
    },
    {
     "cell_type": "code",
     "collapsed": false,
     "input": [
      "graph = pydot.graph_from_dot_data(dot_data.getvalue()) "
     ],
     "language": "python",
     "metadata": {},
     "outputs": []
    },
    {
     "cell_type": "code",
     "collapsed": false,
     "input": [
      "graph.write_png('titanic/titanic.png') #find a picture of the titantic"
     ],
     "language": "python",
     "metadata": {},
     "outputs": []
    },
    {
     "cell_type": "code",
     "collapsed": false,
     "input": [
      "from IPython.core.display import Image"
     ],
     "language": "python",
     "metadata": {},
     "outputs": []
    },
    {
     "cell_type": "code",
     "collapsed": false,
     "input": [
      "Image(filename='titanic/titanic.png') #find a picture of the titantic"
     ],
     "language": "python",
     "metadata": {},
     "outputs": []
    },
    {
     "cell_type": "markdown",
     "metadata": {},
     "source": [
      "## Now, transform the test data"
     ]
    },
    {
     "cell_type": "code",
     "collapsed": false,
     "input": [
      "df_test.drop(['Ticket','Cabin','Embarked','Age','Name'],inplace=True,axis=1)\n",
      "df_test.head(n=1)"
     ],
     "language": "python",
     "metadata": {},
     "outputs": []
    },
    {
     "cell_type": "code",
     "collapsed": false,
     "input": [
      "gender_code = lambda row: [1,0] [row['Sex'] == 'male']\n",
      "df_test['Gender'] = df_test.apply(gender_code,axis=1)"
     ],
     "language": "python",
     "metadata": {},
     "outputs": []
    },
    {
     "cell_type": "code",
     "collapsed": false,
     "input": [
      "df_test.head(n=1)"
     ],
     "language": "python",
     "metadata": {},
     "outputs": []
    },
    {
     "cell_type": "code",
     "collapsed": false,
     "input": [
      "df_test.drop('Sex',inplace=True,axis=1)\n",
      "df_test.head(n=1)"
     ],
     "language": "python",
     "metadata": {},
     "outputs": []
    },
    {
     "cell_type": "code",
     "collapsed": false,
     "input": [
      "clf_test_data = df_test[['Pclass','SibSp','Parch','Fare','Gender']].values\n",
      "clf_test_predict = clf.predict(clf_test_data)"
     ],
     "language": "python",
     "metadata": {},
     "outputs": []
    },
    {
     "cell_type": "code",
     "collapsed": false,
     "input": [
      "df_test.count()"
     ],
     "language": "python",
     "metadata": {},
     "outputs": []
    },
    {
     "cell_type": "code",
     "collapsed": false,
     "input": [
      "df_test.describe()"
     ],
     "language": "python",
     "metadata": {},
     "outputs": []
    },
    {
     "cell_type": "code",
     "collapsed": false,
     "input": [
      "df_test_1 = df_test.fillna(35) # might be better to filin with average"
     ],
     "language": "python",
     "metadata": {},
     "outputs": []
    },
    {
     "cell_type": "code",
     "collapsed": false,
     "input": [
      "clf_test_data = df_test_1[['Pclass','SibSp','Parch','Fare','Gender']].values\n",
      "clf_test_predict = clf.predict(clf_test_data)"
     ],
     "language": "python",
     "metadata": {},
     "outputs": []
    },
    {
     "cell_type": "code",
     "collapsed": false,
     "input": [
      "df_test_1.head()"
     ],
     "language": "python",
     "metadata": {},
     "outputs": []
    },
    {
     "cell_type": "code",
     "collapsed": false,
     "input": [
      "change_predict = clf_test_predict != df_test_1['Survived']"
     ],
     "language": "python",
     "metadata": {},
     "outputs": []
    },
    {
     "cell_type": "code",
     "collapsed": false,
     "input": [
      "change_predict.mean()"
     ],
     "language": "python",
     "metadata": {},
     "outputs": []
    },
    {
     "cell_type": "code",
     "collapsed": false,
     "input": [
      "df_test_1['Survived'] = clf_test_predict"
     ],
     "language": "python",
     "metadata": {},
     "outputs": []
    },
    {
     "cell_type": "code",
     "collapsed": false,
     "input": [
      "df_test_1[['PassengerId','Survived']].to_csv('titanic/sub-03.csv', index=False, float_format=\"%f\")\n",
      "# Submit and you will get 0.75120/0.74163/.."
     ],
     "language": "python",
     "metadata": {},
     "outputs": []
    },
    {
     "cell_type": "code",
     "collapsed": false,
     "input": [
      "#4 : Random Forest Model"
     ],
     "language": "python",
     "metadata": {},
     "outputs": []
    },
    {
     "cell_type": "code",
     "collapsed": false,
     "input": [
      "from sklearn.ensemble import RandomForestClassifier"
     ],
     "language": "python",
     "metadata": {},
     "outputs": []
    },
    {
     "cell_type": "code",
     "collapsed": false,
     "input": [
      "clf = RandomForestClassifier(n_estimators=10)"
     ],
     "language": "python",
     "metadata": {},
     "outputs": []
    },
    {
     "cell_type": "code",
     "collapsed": false,
     "input": [
      "clf = clf.fit(clf_data,clf_target)"
     ],
     "language": "python",
     "metadata": {},
     "outputs": []
    },
    {
     "cell_type": "code",
     "collapsed": false,
     "input": [
      "clf_test_predict = clf.predict(clf_test_data)"
     ],
     "language": "python",
     "metadata": {},
     "outputs": []
    },
    {
     "cell_type": "code",
     "collapsed": false,
     "input": [
      "df_test_1['Survived'] = clf_test_predict"
     ],
     "language": "python",
     "metadata": {},
     "outputs": []
    },
    {
     "cell_type": "code",
     "collapsed": false,
     "input": [
      "df_test_1[['PassengerId','Survived']].to_csv('titanic/sub-04.csv', index=False, float_format=\"%f\")\n",
      "# Submit and you will get 0.75598/0.76077"
     ],
     "language": "python",
     "metadata": {},
     "outputs": []
    },
    {
     "cell_type": "code",
     "collapsed": false,
     "input": [
      "clf = RandomForestClassifier(n_estimators=100)\n",
      "clf = clf.fit(clf_data,clf_target)\n",
      "clf_test_predict = clf.predict(clf_test_data)\n",
      "df_test_1['Survived'] = clf_test_predict\n",
      "df_test_1[['PassengerId','Survived']].to_csv('titanic/sub-05.csv', index=False, float_format=\"%f\")\n",
      "# Submit and you will still get 0.75598/0.76555-improved second try\n",
      "# RF needs more features. We have only 5"
     ],
     "language": "python",
     "metadata": {},
     "outputs": []
    },
    {
     "cell_type": "markdown",
     "metadata": {},
     "source": [
      "# SVM"
     ]
    },
    {
     "cell_type": "markdown",
     "metadata": {},
     "source": [
      "from sklearn.svm import SVC"
     ]
    },
    {
     "cell_type": "code",
     "collapsed": false,
     "input": [
      "clf = SVC() # kernel = 'rbf' Radial Basis Function\n",
      "clf = clf.fit(clf_data,clf_target)\n",
      "clf_test_predict = clf.predict(clf_test_data)\n",
      "df_test_1['Survived'] = clf_test_predict\n",
      "df_test_1[['PassengerId','Survived']].to_csv('titanic/sub-06.csv', index=False, float_format=\"%f\")\n",
      "# Submit and you will still get 0.74641"
     ],
     "language": "python",
     "metadata": {},
     "outputs": []
    },
    {
     "cell_type": "code",
     "collapsed": false,
     "input": [
      "clf = SVC(kernel = \"linear\")\n",
      "clf = clf.fit(clf_data,clf_target)\n",
      "clf_test_predict = clf.predict(clf_test_data)\n",
      "df_test_1['Survived'] = clf_test_predict\n",
      "df_test_1[['PassengerId','Survived']].to_csv('titanic/sub-07.csv', index=False, float_format=\"%f\")\n",
      "# Submit and you will still get 0.76555"
     ],
     "language": "python",
     "metadata": {},
     "outputs": []
    },
    {
     "cell_type": "code",
     "collapsed": false,
     "input": [
      "clf = SVC(kernel = \"sigmoid\")\n",
      "clf = clf.fit(clf_data,clf_target)\n",
      "clf_test_predict = clf.predict(clf_test_data)\n",
      "df_test_1['Survived'] = clf_test_predict\n",
      "df_test_1[['PassengerId','Survived']].to_csv('titanic/sub-08.csv', index=False, float_format=\"%f\")\n",
      "# Submit and you will still get 0.62679"
     ],
     "language": "python",
     "metadata": {},
     "outputs": []
    },
    {
     "cell_type": "code",
     "collapsed": false,
     "input": [
      "#Thank you to Kishna Sankar for your PyCon 2014 presentation!\n",
      "https://us.pycon.org/2014/schedule/tutorials/"
     ],
     "language": "python",
     "metadata": {},
     "outputs": []
    }
   ],
   "metadata": {}
  }
 ]
}