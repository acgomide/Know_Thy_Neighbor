{
 "metadata": {
  "name": "",
  "signature": "sha256:6a089716d734923860cafeb98264a70126e68f6f569b8704fe889b9909719f75"
 },
 "nbformat": 3,
 "nbformat_minor": 0,
 "worksheets": [
  {
   "cells": [
    {
     "cell_type": "markdown",
     "metadata": {},
     "source": [
      "#PyData 2014 Silicon Valley\n",
      "##Portia Burton, PLB Analytics\n"
     ]
    },
    {
     "cell_type": "markdown",
     "metadata": {},
     "source": [
      "###Know Thy Neighbor: An Introduction to Scikit-Learn and K Nearest Neighbor Algorithm"
     ]
    },
    {
     "cell_type": "markdown",
     "metadata": {},
     "source": [
      "* Take a Look at the Scikit-Learn \n",
      "* Learn about the Python's Machine Learning Package \n",
      "* Explore \n",
      "* Overview of Kaggle"
     ]
    },
    {
     "cell_type": "markdown",
     "metadata": {},
     "source": []
    },
    {
     "cell_type": "markdown",
     "metadata": {},
     "source": [
      "##Instructions:\n",
      "* Get Ipython http://ipython.org/notebook.html\n",
      "* Obtain conda(package manager like virt-env) http://conda.pydata.org/docs/\n",
      "* Clone git@github.com:pkafei/Know_Thy_Neighbor.git\n"
     ]
    },
    {
     "cell_type": "code",
     "collapsed": false,
     "input": [],
     "language": "python",
     "metadata": {},
     "outputs": []
    },
    {
     "cell_type": "markdown",
     "metadata": {},
     "source": [
      "##The Main Attraction"
     ]
    },
    {
     "cell_type": "code",
     "collapsed": false,
     "input": [
      "import numpy as np\n",
      "import pylab as pl\n",
      "from matplotlib.colors import ListedColormap\n",
      "from sklearn import neighbors, datasets"
     ],
     "language": "python",
     "metadata": {},
     "outputs": [],
     "prompt_number": 1
    },
    {
     "cell_type": "code",
     "collapsed": false,
     "input": [
      "n_neighbors = 30"
     ],
     "language": "python",
     "metadata": {},
     "outputs": [],
     "prompt_number": 2
    },
    {
     "cell_type": "code",
     "collapsed": false,
     "input": [
      "# import some data to play with\n",
      "iris = datasets.load_iris()\n",
      "X = iris.data[:, :2]  # we only take the first two features. We could\n",
      "                      # avoid this ugly slicing by using a two-dim dataset\n",
      "    \n",
      "y = iris.target #These are the labels for each data point"
     ],
     "language": "python",
     "metadata": {},
     "outputs": [],
     "prompt_number": 3
    },
    {
     "cell_type": "code",
     "collapsed": false,
     "input": [
      "print X.shape"
     ],
     "language": "python",
     "metadata": {},
     "outputs": [
      {
       "output_type": "stream",
       "stream": "stdout",
       "text": [
        "(150, 2)\n"
       ]
      }
     ],
     "prompt_number": 4
    },
    {
     "cell_type": "code",
     "collapsed": false,
     "input": [
      "# Create color maps\n",
      "h = .1  # step size in the mesh\n",
      "cmap_light = ListedColormap(['#FFAAAA', '#AAFFAA', '#AAAAFF'])\n",
      "cmap_bold = ListedColormap(['#FF0000', '#00FF00', '#0000FF'])"
     ],
     "language": "python",
     "metadata": {},
     "outputs": [],
     "prompt_number": 5
    },
    {
     "cell_type": "code",
     "collapsed": false,
     "input": [
      "for weights in ['uniform', 'distance']:\n",
      "    # we create an instance of Neighbors Classifier and fit the data.\n",
      "    clf = neighbors.KNeighborsClassifier(n_neighbors, weights=weights) #establish settings\n",
      "    clf.fit(X, y)#enter the training data\n",
      "    \n",
      "    #### creating the plot from the output of k-NN\n",
      "    #### setting up the plot\n",
      "    # Plot the decision boundary. For that, we will assign a color to each\n",
      "    # point in the mesh [x_min, m_max]x[y_min, y_max].\n",
      "    x_min, x_max = X[:, 0].min() - 1, X[:, 0].max() + 1\n",
      "    y_min, y_max = X[:, 1].min() - 1, X[:, 1].max() + 1\n",
      "    xx, yy = np.meshgrid(np.arange(x_min, x_max, h),\n",
      "                         np.arange(y_min, y_max, h))\n",
      "    \n",
      "    ####running the prediction for all the points in the plot\n",
      "    Z = clf.predict(np.c_[xx.ravel(), yy.ravel()])\n",
      "    \n",
      "    # Put the result into a color plot\n",
      "    Z = Z.reshape(xx.shape)\n",
      "    pl.figure()\n",
      "    pl.pcolormesh(xx, yy, Z, cmap=cmap_light)\n",
      "\n",
      "    # Plot also the training points\n",
      "    pl.scatter(X[:, 0], X[:, 1], c=y, cmap=cmap_bold)\n",
      "    pl.xlim(xx.min(), xx.max())\n",
      "    pl.ylim(yy.min(), yy.max())\n",
      "    pl.title(\"3-Class classification (k = %i, weights = '%s')\"\n",
      "             % (n_neighbors, weights))\n",
      "\n",
      "pl.show()\n"
     ],
     "language": "python",
     "metadata": {},
     "outputs": []
    },
    {
     "cell_type": "code",
     "collapsed": false,
     "input": [],
     "language": "python",
     "metadata": {},
     "outputs": []
    }
   ],
   "metadata": {}
  }
 ]
}