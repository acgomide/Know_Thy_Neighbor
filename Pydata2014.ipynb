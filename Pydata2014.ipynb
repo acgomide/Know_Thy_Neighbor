{
 "metadata": {
  "name": "",
  "signature": "sha256:5cda4c1ce757a338b65127f5ea3d2c1268f2513dae2974c8d6c75841e07c2266"
 },
 "nbformat": 3,
 "nbformat_minor": 0,
 "worksheets": [
  {
   "cells": [
    {
     "cell_type": "markdown",
     "metadata": {},
     "source": [
      "#PyData 2014 Silicon Valley\n",
      "##Portia Burton, PLB Analytics\n"
     ]
    },
    {
     "cell_type": "markdown",
     "metadata": {},
     "source": [
      "###Know Thy Neighbor: An Introduction to Scikit-Learn and K Nearest Neighbor Algorithm"
     ]
    },
    {
     "cell_type": "markdown",
     "metadata": {},
     "source": [
      "* Take a Look at the Scikit-Learn \n",
      "* Learn about the Python's Machine Learning Package \n",
      "* Explore "
     ]
    },
    {
     "cell_type": "code",
     "collapsed": false,
     "input": [],
     "language": "python",
     "metadata": {},
     "outputs": []
    },
    {
     "cell_type": "markdown",
     "metadata": {},
     "source": [
      "##Instructions:\n",
      "* Get Ipython http://ipython.org/notebook.html\n",
      "* Obtain conda(package manager like virt-env) http://conda.pydata.org/docs/\n",
      "* Clone git@github.com:pkafei/Know_Thy_Neighbor.git\n"
     ]
    }
   ],
   "metadata": {}
  }
 ]
}