{
 "metadata": {
  "name": "",
  "signature": "sha256:f498eaa6d4485677c03061d88f18a01a916245ac8bd3cb02751045f363465710"
 },
 "nbformat": 3,
 "nbformat_minor": 0,
 "worksheets": [
  {
   "cells": [
    {
     "cell_type": "code",
     "collapsed": false,
     "input": [
      "#PyData 2014 Silicon Valley\n",
      "##Portia Burton, PLB Analytics\n"
     ],
     "language": "python",
     "metadata": {},
     "outputs": [],
     "prompt_number": 5
    },
    {
     "cell_type": "code",
     "collapsed": false,
     "input": [
      "###Know Thy Neighbor: An Introduction to Scikit-Learn and K Nearest Neighbor Algorithm"
     ],
     "language": "python",
     "metadata": {},
     "outputs": []
    },
    {
     "cell_type": "code",
     "collapsed": false,
     "input": [
      "* Take a Look at the Scikit-Learn \n",
      "* Learn about the Python's Machine Learning Package \n",
      "* Explore "
     ],
     "language": "python",
     "metadata": {},
     "outputs": []
    },
    {
     "cell_type": "code",
     "collapsed": false,
     "input": [],
     "language": "python",
     "metadata": {},
     "outputs": []
    }
   ],
   "metadata": {}
  }
 ]
}